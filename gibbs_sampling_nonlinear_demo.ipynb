{
 "cells": [
  {
   "cell_type": "markdown",
   "id": "afb18eec",
   "metadata": {},
   "source": [
    "# Demonstration of Gibbs Sampler on a Nonlinear Model with 4 Parameters"
   ]
  },
  {
   "cell_type": "code",
   "execution_count": null,
   "id": "14501df5",
   "metadata": {},
   "outputs": [],
   "source": [
    "import numpy as np\n",
    "import pymc as pm\n",
    "import matplotlib.pyplot as plt\n",
    "import arviz as az\n",
    "import seaborn as sns\n",
    "import pandas as pd\n",
    "\n",
    "# Configuration\n",
    "np.random.seed(42)\n",
    "param_names = [\"m0\", \"m1\", \"m2\", \"m3\"]\n",
    "model_string = \"y = m0 / (1 + exp(-m1*(x - m2))) + m3*sin(x)\"\n",
    "true_params = [3.0, 2.0, 5.0, 0.2]\n",
    "\n",
    "def nonlinear_model(x, m):\n",
    "    return m[0] / (1 + np.exp(-m[1]*(x - m[2]))) + m[3] * np.sin(x)\n",
    "\n",
    "# Simulated observations\n",
    "sigma_low = 0.0005\n",
    "sigma_high = 10.0\n",
    "\n",
    "x_data = np.linspace(0, 10, 800)\n",
    "y_true = nonlinear_model(x_data, true_params)\n",
    "y_obs_low = y_true + np.random.normal(0, sigma_low, size=len(x_data))\n",
    "y_obs_high = y_true + np.random.normal(0, sigma_high, size=len(x_data))\n",
    "\n",
    "# Gibbs Sampling parameters\n",
    "n_samples = 10000\n",
    "burn_in = n_samples // 2\n",
    "step_sizes = [0.5, 0.2, 0.2, 0.1]\n",
    "init_guess = [1.0, 1.0, 1.0, 1.0]"
   ]
  },
  {
   "cell_type": "code",
   "execution_count": null,
   "id": "fecfd5bd",
   "metadata": {},
   "outputs": [],
   "source": [
    "def plot_fits(x, y_true, y_obs, mean_params, label):\n",
    "    plt.figure(figsize=(10, 4))\n",
    "    plt.plot(x, y_true, 'k-', label='True')\n",
    "    plt.plot(x, y_obs, '.', label='Observed', alpha=0.4)\n",
    "    plt.plot(x, nonlinear_model(x, mean_params), 'r--', label='Inferred')\n",
    "    plt.title(f'{label} Fit')\n",
    "    plt.legend()\n",
    "    plt.grid(True)\n",
    "    plt.tight_layout()\n",
    "    plt.show()\n",
    "\n",
    "def triangle_plot(data, param_names, true_params, inferred_params, label):\n",
    "    if  isinstance(data, np.ndarray):\n",
    "        df = pd.DataFrame(data, columns=param_names)\n",
    "    else:\n",
    "        df = az.extract(data, var_names=param_names).to_dataframe()[param_names]\n",
    "    \n",
    "    g = sns.PairGrid(df, vars=param_names, corner=True)\n",
    "    g.map_lower(sns.kdeplot, levels=5, fill=False)\n",
    "    g.map_diag(sns.kdeplot, fill=True)\n",
    "    for i, p in enumerate(param_names):\n",
    "        ax = g.axes[i, i]\n",
    "        ax.axvline(true_params[i], color='k', linestyle='-')\n",
    "        ax.axvline(inferred_params[i], color='r', linestyle='--')\n",
    "\n",
    "    plt.suptitle(label + \" - Triangle Plot\", y=1.02)\n",
    "    plt.show()\n",
    "    \n",
    "def print_summary(model_string, true_vals, inferred_vals, label):\n",
    "    print(f\"--- {label} Summary ---\")\n",
    "    print(f\"{model_string}\")\n",
    "\n",
    "    print(f\"{'Param':<5} {'True':>10} {'Inferred':>10} {'Error':>10}\")\n",
    "    for name, t, p in zip(param_names, true_vals, inferred_vals):\n",
    "        print(f\"{name:<5} {t:10.4f} {p:10.4f} {p - t:10.4f}\")"
   ]
  },
  {
   "cell_type": "code",
   "execution_count": null,
   "id": "b6c58a7d",
   "metadata": {},
   "outputs": [],
   "source": [
    "def log_likelihood(p, x, y_obs, sigma):\n",
    "    y_model = nonlinear_model(x, p)\n",
    "    return -0.5 * np.sum(((y_obs - y_model) / sigma) ** 2)\n",
    "\n",
    "def gibbs_sampler(x, y_obs, sigma, init_params, num_samples, step_size):\n",
    "    samples = np.zeros((num_samples, len(init_params)))\n",
    "    current = np.array(init_params)\n",
    "    for i in range(num_samples):\n",
    "        for j in range(len(init_params)):\n",
    "            proposal = current.copy()\n",
    "            proposal[j] += np.random.normal(0, step_size[j])\n",
    "            if np.random.rand() < np.exp(\n",
    "                log_likelihood(proposal, x, y_obs, sigma) - log_likelihood(current, x, y_obs, sigma)\n",
    "            ):\n",
    "                current[j] = proposal[j]\n",
    "        samples[i, :] = current\n",
    "    return samples"
   ]
  },
  {
   "cell_type": "markdown",
   "id": "8402283b",
   "metadata": {},
   "source": [
    "## 🔵 Inference on Low Noise Data (σ = 0.01)"
   ]
  },
  {
   "cell_type": "code",
   "execution_count": null,
   "id": "352a08eb",
   "metadata": {},
   "outputs": [],
   "source": [
    "samples_low = gibbs_sampler(x_data, y_obs_low, sigma_low, init_guess, n_samples, step_sizes)\n",
    "posterior_low = samples_low[burn_in:]\n",
    "mean_low = np.mean(posterior_low, axis=0)\n",
    "\n",
    "print_summary(model_string, true_params, mean_low, \"Low Noise\")\n",
    "plot_fits(x_data, y_true, y_obs_low, mean_low, \"Low Noise\")\n",
    "triangle_plot(posterior_low, param_names, true_params, mean_low, \"Low Noise\")\n"
   ]
  },
  {
   "cell_type": "markdown",
   "id": "c61515de",
   "metadata": {},
   "source": [
    "## 🔴 Inference on High Noise Data (σ = 2.0)"
   ]
  },
  {
   "cell_type": "code",
   "execution_count": null,
   "id": "46cec804",
   "metadata": {},
   "outputs": [],
   "source": [
    "# samples_low = gibbs_sampler(x_data, y_obs_low, sigma_low, init_guess, n_samples, step_sizes)\n",
    "# posterior_low = samples_low[burn_in:]\n",
    "# mean_low = np.mean(posterior_low, axis=0)\n",
    "samples_high = gibbs_sampler(x_data, y_obs_high, sigma_high, init_guess, n_samples, step_sizes)\n",
    "posterior_high = samples_high[burn_in:]\n",
    "mean_high = np.mean(posterior_high, axis=0)\n",
    "\n",
    "print_summary(model_string, true_params, mean_high, \"High Noise\")\n",
    "plot_fits(x_data, y_true, y_obs_high, mean_high, \"High Noise\")\n",
    "triangle_plot(posterior_low, param_names, true_params, mean_low, \"Low Noise\")"
   ]
  }
 ],
 "metadata": {
  "kernelspec": {
   "display_name": "base",
   "language": "python",
   "name": "python3"
  },
  "language_info": {
   "codemirror_mode": {
    "name": "ipython",
    "version": 3
   },
   "file_extension": ".py",
   "mimetype": "text/x-python",
   "name": "python",
   "nbconvert_exporter": "python",
   "pygments_lexer": "ipython3",
   "version": "3.10.15"
  }
 },
 "nbformat": 4,
 "nbformat_minor": 5
}
