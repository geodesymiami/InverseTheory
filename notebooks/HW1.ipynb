{
 "cells": [
  {
   "cell_type": "code",
   "execution_count": 1,
   "metadata": {},
   "outputs": [
    {
     "name": "stdout",
     "output_type": "stream",
     "text": [
      "[[1. 0. 0. ... 0. 0. 0.]\n",
      " [1. 1. 0. ... 0. 0. 0.]\n",
      " [1. 1. 1. ... 0. 0. 0.]\n",
      " ...\n",
      " [0. 0. 0. ... 1. 0. 0.]\n",
      " [0. 0. 0. ... 1. 1. 0.]\n",
      " [0. 0. 0. ... 1. 1. 1.]]\n",
      "Number of elements in G: 10000\n",
      "Number of zero elements in G: 9703\n",
      "Percentage of zero elements in G: 97.03%\n"
     ]
    },
    {
     "data": {
      "image/png": "[encoded data removed]",
      "text/plain": [
       "<Figure size 640x480 with 1 Axes>"
      ]
     },
     "metadata": {},
     "output_type": "display_data"
    }
   ],
   "source": [
    "# Homework 1A\tSuppose that you determine the masses of 100 objects by weighing the first, then weighing the first and\n",
    "# second together, and then weighing the rest in triplets: the first, second, and third; the second, third, and\n",
    "# fourth; and so forth. (A) Identify the data and model parameters in this problem. How many parameters of\n",
    "# each are there? (B) Write down the matrix G in the form d= Gm that relates the data to the model\n",
    "# parameters. (C) How many elements does the matrix has and what percentage of elements are zero, i.e. how\n",
    "# sparse is G?\n",
    "\n",
    "import numpy as np\n",
    "import scipy.linalg as la    \n",
    "import matplotlib.pyplot as plt\n",
    "\n",
    "# Create a 100x100 matrix initialized with zeros.\n",
    "# First measurement: only the first mass\n",
    "# Second measurement: first and second masses\n",
    "# Measurements 3 to 100: triplet measurements.\n",
    "\n",
    "G = np.zeros((100, 100))\n",
    "G[0, 0] = 1\n",
    "G[1, 0:2] = 1\n",
    "for i in range(2, 100):\n",
    "    G[i, i-2:i+1] = 1\n",
    "\n",
    "print(G)\n",
    "plt.imshow(G, cmap='gray', interpolation='nearest')\n",
    "number_of_elements = G.size\n",
    "print(f'Number of elements in G: {number_of_elements}')\n",
    "\n",
    "# Count the number of zero elements in the matrix G\n",
    "number_of_zeros = np.count_nonzero(G == 0)\n",
    "print(f'Number of zero elements in G: {number_of_zeros}')\n",
    "\n",
    "# Calculate the percentage of zero elements\n",
    "percentage_of_zeros = (number_of_zeros / number_of_elements) * 100\n",
    "print(f'Percentage of zero elements in G: {percentage_of_zeros:.2f}%')\n"
   ]
  },
  {
   "cell_type": "code",
   "execution_count": 3,
   "metadata": {},
   "outputs": [
    {
     "name": "stdout",
     "output_type": "stream",
     "text": [
      "[[0.         0.         0.         ... 0.         0.         0.        ]\n",
      " [0.33333333 0.33333333 0.33333333 ... 0.         0.         0.        ]\n",
      " [0.         0.33333333 0.33333333 ... 0.         0.         0.        ]\n",
      " ...\n",
      " [0.         0.         0.         ... 0.33333333 0.33333333 0.        ]\n",
      " [0.         0.         0.         ... 0.33333333 0.33333333 0.33333333]\n",
      " [0.         0.         0.         ... 0.         0.         0.        ]]\n",
      "Number of elements in G: 10000\n",
      "Data vector for m containing 1 s: [0. 1. 1. 1. 1. 1. 1. 1. 1. 1. 1. 1. 1. 1. 1. 1. 1. 1. 1. 1. 1. 1. 1. 1.\n",
      " 1. 1. 1. 1. 1. 1. 1. 1. 1. 1. 1. 1. 1. 1. 1. 1. 1. 1. 1. 1. 1. 1. 1. 1.\n",
      " 1. 1. 1. 1. 1. 1. 1. 1. 1. 1. 1. 1. 1. 1. 1. 1. 1. 1. 1. 1. 1. 1. 1. 1.\n",
      " 1. 1. 1. 1. 1. 1. 1. 1. 1. 1. 1. 1. 1. 1. 1. 1. 1. 1. 1. 1. 1. 1. 1. 1.\n",
      " 1. 1. 1. 0.]\n",
      "[0. 1. 1. 1. 1. 1. 1. 1. 1. 1. 1. 1. 1. 1. 1. 1. 1. 1. 1. 1. 1. 1. 1. 1.\n",
      " 1. 1. 1. 1. 1. 1. 1. 1. 1. 1. 1. 1. 1. 1. 1. 1. 1. 1. 1. 1. 1. 1. 1. 1.\n",
      " 1. 1. 1. 1. 1. 1. 1. 1. 1. 1. 1. 1. 1. 1. 1. 1. 1. 1. 1. 1. 1. 1. 1. 1.\n",
      " 1. 1. 1. 1. 1. 1. 1. 1. 1. 1. 1. 1. 1. 1. 1. 1. 1. 1. 1. 1. 1. 1. 1. 1.\n",
      " 1. 1. 1. 0.]\n",
      "Given that the equation does not work for the first and last element, we set G to zero for the first and last row\n"
     ]
    },
    {
     "data": {
      "image/png": "[encoded data removed]",
      "text/plain": [
       "<Figure size 640x480 with 1 Axes>"
      ]
     },
     "metadata": {},
     "output_type": "display_data"
    }
   ],
   "source": [
    "# Homework 1B.\t Let the data d be the running average of the model parameters, m, computed by averaging groups of\n",
    "# three neighboring points; that is, di = (mi-1 + mi + mi+1)/3. (A) What is the matrix G in the equation d=Gm\n",
    "# in this case? (B) What problems arise at the top and bottom rows of the matrix and how can you deal with\n",
    "# them?\n",
    "\n",
    "%reset -f\n",
    "import numpy as np\n",
    "import matplotlib.pyplot as plt\n",
    "\n",
    "# Initialize the G matrix with zeros\n",
    "G = np.zeros((100, 100))\n",
    "\n",
    "# Fill the interior points\n",
    "for i in range(1, 100-1):\n",
    "    G[i, i-1] = 1/3\n",
    "    G[i, i] = 1/3\n",
    "    G[i, i+1] = 1/3\n",
    "\n",
    "\n",
    "print(G)\n",
    "plt.imshow(G, cmap='gray', interpolation='nearest')\n",
    "number_of_elements = G.size\n",
    "print(f'Number of elements in G: {number_of_elements}')\n",
    "\n",
    "m = np.full((100,), 1)\n",
    "d = G @ m\n",
    "print(f'Data vector for m containing 1 s: {d}')\n",
    "\n",
    "print(d)\n",
    "\n",
    "print(f'Given that the equation does not work for the first and last element, we set G to zero for the first and last row')\n"
   ]
  }
 ],
 "metadata": {
  "kernelspec": {
   "display_name": "base",
   "language": "python",
   "name": "python3"
  },
  "language_info": {
   "codemirror_mode": {
    "name": "ipython",
    "version": 3
   },
   "file_extension": ".py",
   "mimetype": "text/x-python",
   "name": "python",
   "nbconvert_exporter": "python",
   "pygments_lexer": "ipython3",
   "version": "3.10.15"
  }
 },
 "nbformat": 4,
 "nbformat_minor": 2
}
