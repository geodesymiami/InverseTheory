{
 "cells": [
  {
   "cell_type": "markdown",
   "id": "afb18eec",
   "metadata": {},
   "source": [
    "# Demonstration of PyMC Markov Chain Monte Carlo  on a Nonlinear Model with 4 Parameters"
   ]
  },
  {
   "cell_type": "code",
   "execution_count": null,
   "id": "14501df5",
   "metadata": {},
   "outputs": [],
   "source": [
    "import numpy as np\n",
    "import pymc as pm\n",
    "import matplotlib.pyplot as plt\n",
    "import arviz as az\n",
    "import seaborn as sns\n",
    "import pandas as pd\n",
    "\n",
    "# Configuration\n",
    "np.random.seed(42)\n",
    "param_names = [\"m0\", \"m1\", \"m2\", \"m3\"]\n",
    "model_string = \"y = m0 / (1 + exp(-m1*(x - m2))) + m3*sin(x)\"\n",
    "true_params = [3.0, 2.0, 5.0, 0.2]\n",
    "\n",
    "def forward_model(x, m):\n",
    "    return m[0] / (1 + np.exp(-m[1]*(x - m[2]))) + m[3] * np.sin(x)\n",
    "\n",
    "# Simulated observations\n",
    "sigma_low = 0.02\n",
    "sigma_high = 2.0\n",
    "\n",
    "x_data = np.linspace(0, 10, 800)\n",
    "y_true = forward_model(x_data, true_params)\n",
    "y_obs_low = y_true + np.random.normal(0, sigma_low, size=len(x_data))\n",
    "y_obs_high = y_true + np.random.normal(0, sigma_high, size=len(x_data))\n",
    "\n",
    "# pyMC parameters\n",
    "target_accept = 0.9 \n",
    "max_treedepth = 12\n",
    "draws = 1000 \n",
    "tune = 1000"
   ]
  },
  {
   "cell_type": "code",
   "execution_count": null,
   "id": "237d5411",
   "metadata": {},
   "outputs": [],
   "source": [
    "def run_pymc_sampling(x, y_obs, sigma, target_accept=0.8, max_treedepth=10, draws=1000, tune=1000):\n",
    "    with pm.Model() as model:\n",
    "        m0 = pm.Normal(\"m0\", mu=1, sigma=2)\n",
    "        m1 = pm.Normal(\"m1\", mu=1, sigma=2)\n",
    "        m2 = pm.Normal(\"m2\", mu=5, sigma=2)\n",
    "        m3 = pm.Normal(\"m3\", mu=0, sigma=1)\n",
    "        y_model = m0 / (1 + pm.math.exp(-m1*(x - m2))) + m3 * pm.math.sin(x)\n",
    "        y_obs_ = pm.Normal(\"y_obs\", mu=y_model, sigma=sigma, observed=y_obs)\n",
    "\n",
    "        trace = pm.sample(draws=draws, tune=tune, target_accept=target_accept, max_treedepth=max_treedepth, return_inferencedata=True, random_seed=42)\n",
    "    return trace"
   ]
  },
  {
   "cell_type": "code",
   "execution_count": null,
   "id": "2d992167",
   "metadata": {},
   "outputs": [],
   "source": [
    "def plot_data_model_fit(x, y_true, y_obs, mean_params, label):\n",
    "    plt.figure(figsize=(10, 4))\n",
    "    plt.plot(x, y_true, 'k-', label='True')\n",
    "    plt.plot(x, y_obs, '.', label='Observed', alpha=0.4)\n",
    "    plt.plot(x, forward_model(x, mean_params), 'r--', label='Inferred')\n",
    "    plt.title(f'{label} Fit')\n",
    "    plt.legend()\n",
    "    plt.grid(True)\n",
    "    plt.tight_layout()\n",
    "    plt.show()\n",
    "\n",
    "def triangle_plot(data, param_names, true_params, inferred_params, label, half_range=0.5):\n",
    "    \"\"\"\n",
    "    Create a triangle plot showing posterior distributions.\n",
    "    \"\"\"\n",
    "    if isinstance(data, np.ndarray):\n",
    "        df = pd.DataFrame(data, columns=param_names)\n",
    "    else:\n",
    "        df = az.extract(data, var_names=param_names).to_dataframe()[param_names]\n",
    "    \n",
    "    means = df.mean()\n",
    "\n",
    "    g = sns.PairGrid(df, vars=param_names, corner=True)\n",
    "    g.map_lower(sns.kdeplot, levels=5, fill=False)\n",
    "    g.map_diag(sns.kdeplot, fill=True)\n",
    "\n",
    "    # Calculate dynamic axis limits\n",
    "    lower_limits = []\n",
    "    upper_limits = []\n",
    "    for i, p in enumerate(param_names):\n",
    "        mean_val = means[p]\n",
    "        true_val = true_params[i]\n",
    "        lower = min(mean_val, true_val) - half_range\n",
    "        upper = max(mean_val, true_val) + half_range\n",
    "        lower_limits.append(lower)\n",
    "        upper_limits.append(upper)\n",
    "\n",
    "    # Set axis limits for marginals and KDEs\n",
    "    for i, p in enumerate(param_names):\n",
    "        ax = g.axes[i, i]\n",
    "        ax.axvline(true_params[i], color='k', linestyle='-')\n",
    "        ax.axvline(inferred_params[i], color='r', linestyle='--')\n",
    "        ax.set_xlim(lower_limits[i], upper_limits[i])\n",
    "\n",
    "    for i in range(len(param_names)):\n",
    "        for j in range(i):\n",
    "            ax = g.axes[i, j]\n",
    "            ax.set_xlim(lower_limits[j], upper_limits[j])\n",
    "            ax.set_ylim(lower_limits[i], upper_limits[i])\n",
    "\n",
    "    plt.suptitle(label + f\" - Triangle Plot (half-range = {half_range})\", y=1.02)\n",
    "    plt.show()\n",
    "\n",
    "def print_summary(model_string, true_vals, inferred_vals, label):\n",
    "    print(f\"--- {label} Summary ---\")\n",
    "    print(f\"{model_string}\")\n",
    "\n",
    "    print(f\"{'Param':<5} {'True':>10} {'Inferred':>10} {'Error':>10}\")\n",
    "    for name, t, p in zip(param_names, true_vals, inferred_vals):\n",
    "        print(f\"{name:<5} {t:10.4f} {p:10.4f} {p - t:10.4f}\")"
   ]
  },
  {
   "cell_type": "markdown",
   "id": "8402283b",
   "metadata": {},
   "source": [
    "## 🔵 Inference on Low Noise Data"
   ]
  },
  {
   "cell_type": "code",
   "execution_count": null,
   "id": "352a08eb",
   "metadata": {},
   "outputs": [],
   "source": [
    "sigma = sigma_low\n",
    "label = f\"Low Noise: sigma={sigma_low}\"\n",
    "y_obs = y_true + np.random.normal(0, sigma, size=len(x_data))\n",
    "\n",
    "idata = run_pymc_sampling(x_data, y_obs, sigma, target_accept, max_treedepth, draws, tune)\n",
    "mean = az.summary(idata, var_names=param_names)['mean'].values\n",
    "\n",
    "print_summary(model_string, true_params, mean, label)\n",
    "plot_data_model_fit(x_data, y_true, y_obs_low, mean, label)\n",
    "az.plot_trace(idata, var_names=param_names, figsize=(10, 6), lines=[(k, {}, [v]) for k, v in zip(param_names, true_params)])\n",
    "plt.suptitle(f\"Trace Plots: {label} \", y=1.02)\n",
    "plt.show()\n",
    "triangle_plot(idata, param_names, true_params, mean, label, half_range=0.05)"
   ]
  },
  {
   "cell_type": "markdown",
   "id": "c61515de",
   "metadata": {},
   "source": [
    "## 🔴 Inference on High Noise Data"
   ]
  },
  {
   "cell_type": "code",
   "execution_count": null,
   "id": "46cec804",
   "metadata": {},
   "outputs": [],
   "source": [
    "sigma = sigma_high\n",
    "label = f\"High Noise: sigma={sigma_high}\"\n",
    "y_obs = y_true + np.random.normal(0, sigma, size=len(x_data))\n",
    "\n",
    "idata = run_pymc_sampling(x_data, y_obs, sigma, target_accept, max_treedepth, draws, tune)\n",
    "mean = az.summary(idata, var_names=param_names)['mean'].values\n",
    "\n",
    "print_summary(model_string, true_params, mean, label)\n",
    "plot_data_model_fit(x_data, y_true, y_obs_low, mean, label)\n",
    "az.plot_trace(idata, var_names=param_names, figsize=(10, 6), lines=[(k, {}, [v]) for k, v in zip(param_names, true_params)])\n",
    "plt.suptitle(f\"Trace Plots: {label} \", y=1.02)\n",
    "plt.show()\n",
    "triangle_plot(idata, param_names, true_params, mean, label, half_range=0.5)"
   ]
  }
 ],
 "metadata": {
  "kernelspec": {
   "display_name": "base",
   "language": "python",
   "name": "python3"
  },
  "language_info": {
   "codemirror_mode": {
    "name": "ipython",
    "version": 3
   },
   "file_extension": ".py",
   "mimetype": "text/x-python",
   "name": "python",
   "nbconvert_exporter": "python",
   "pygments_lexer": "ipython3",
   "version": "3.10.15"
  }
 },
 "nbformat": 4,
 "nbformat_minor": 5
}
